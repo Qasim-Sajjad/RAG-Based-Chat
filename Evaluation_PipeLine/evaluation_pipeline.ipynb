{
 "cells": [
  {
   "cell_type": "code",
   "execution_count": 1,
   "metadata": {},
   "outputs": [],
   "source": [
    "# Importing Libraries.\n",
    "\n",
    "from tqdm.auto import tqdm\n",
    "import pandas as pd\n",
    "from typing import Optional, List, Tuple\n",
    "import json\n",
    "import datasets\n",
    "\n",
    "pd.set_option(\"display.max_colwidth\", None)"
   ]
  },
  {
   "cell_type": "code",
   "execution_count": 2,
   "metadata": {},
   "outputs": [
    {
     "name": "stdout",
     "output_type": "stream",
     "text": [
      "Token is valid (permission: fineGrained).\n",
      "Your token has been saved in your configured git credential helpers (manager).\n",
      "Your token has been saved to C:\\Users\\GNG\\.cache\\huggingface\\token\n",
      "Login successful\n"
     ]
    }
   ],
   "source": [
    "from huggingface_hub import login\n",
    "from dotenv import load_dotenv\n",
    "import os\n",
    "\n",
    "load_dotenv(dotenv_path=\".env\")\n",
    "\n",
    "hf_mixtral_tk = os.getenv(key=\"hf_mixtral_tk\")\n",
    "login(token=hf_mixtral_tk,add_to_git_credential=True)"
   ]
  },
  {
   "cell_type": "code",
   "execution_count": 3,
   "metadata": {},
   "outputs": [],
   "source": [
    "#Loading Knowledge base from hugging face.\n",
    "# Dataset will be used to Generate Question/Answer Pairs based on context. [Synthetic Dataset]\n",
    "ds = datasets.load_dataset(\"m-ric/huggingface_doc\", split=\"train\")"
   ]
  },
  {
   "cell_type": "code",
   "execution_count": null,
   "metadata": {},
   "outputs": [
    {
     "data": {
      "text/html": [
       "<div>\n",
       "<style scoped>\n",
       "    .dataframe tbody tr th:only-of-type {\n",
       "        vertical-align: middle;\n",
       "    }\n",
       "\n",
       "    .dataframe tbody tr th {\n",
       "        vertical-align: top;\n",
       "    }\n",
       "\n",
       "    .dataframe thead th {\n",
       "        text-align: right;\n",
       "    }\n",
       "</style>\n",
       "<table border=\"1\" class=\"dataframe\">\n",
       "  <thead>\n",
       "    <tr style=\"text-align: right;\">\n",
       "      <th></th>\n",
       "      <th>text</th>\n",
       "      <th>source</th>\n",
       "    </tr>\n",
       "  </thead>\n",
       "  <tbody>\n",
       "    <tr>\n",
       "      <th>0</th>\n",
       "      <td>Create an Endpoint\\n\\nAfter your first login, you will be directed to the [Endpoint creation page](https://ui.endpoints.huggingface.co/new). As an example, this guide will go through the steps to deploy [distilbert-base-uncased-finetuned-sst-2-english](https://huggingface.co/distilbert-base-uncased-finetuned-sst-2-english) for text classification. \\n\\n## 1. Enter the Hugging Face Repository ID and your desired endpoint name:\\n\\n&lt;img src=\"https://raw.githubusercontent.com/huggingface/hf-endpoints-documentation/main/assets/1_repository.png\" alt=\"select repository\" /&gt;\\n\\n## 2. Select your Cloud Provider and region. Initially, only AWS will be available as a Cloud Provider with the `us-east-1` and `eu-west-1` regions. We will add Azure soon, and if you need to test Endpoints with other Cloud Providers or regions, please let us know.\\n\\n&lt;img src=\"https://raw.githubusercontent.com/huggingface/hf-endpoints-documentation/main/assets/1_region.png\" alt=\"select region\" /&gt;\\n\\n## 3. Define the [Security Level](security) for the Endpoint:\\n\\n&lt;img src=\"https://raw.githubusercontent.com/huggingface/hf-endpoints-documentation/main/assets/1_security.png\" alt=\"define security\" /&gt;\\n\\n## 4. Create your Endpoint by clicking **Create Endpoint**. By default, your Endpoint is created with a medium CPU (2 x 4GB vCPUs with Intel Xeon Ice Lake) The cost estimate assumes the Endpoint will be up for an entire month, and does not take autoscaling into account.\\n\\n&lt;img src=\"https://raw.githubusercontent.com/huggingface/hf-endpoints-documentation/main/assets/1_create_cost.png\" alt=\"create endpoint\" /&gt;\\n\\n## 5. Wait for the Endpoint to build, initialize and run which can take between 1 to 5 minutes.\\n\\n&lt;img src=\"https://raw.githubusercontent.com/huggingface/hf-endpoints-documentation/main/assets/overview.png\" alt=\"overview\" /&gt;\\n\\n## 6. Test your Endpoint in the overview with the Inference widget 🏁 🎉!\\n\\n&lt;img src=\"https://raw.githubusercontent.com/huggingface/hf-endpoints-documentation/main/assets/1_inference.png\" alt=\"run inference\" /&gt;\\n</td>\n",
       "      <td>huggingface/hf-endpoints-documentation/blob/main/docs/source/guides/create_endpoint.mdx</td>\n",
       "    </tr>\n",
       "  </tbody>\n",
       "</table>\n",
       "</div>"
      ],
      "text/plain": [
       "                                                                                                                                                                                                                                                                                                                                                                                                                                                                                                                                                                                                                                                                                                                                                                                                                                                                                                                                                                                                                                                                                                                                                                                                                                                                                                                                                                                                                                                                                                                                                                                                                                                                                                                                                                                                                                                                                                                                                                                                                                                                                                                       text  \\\n",
       "0   Create an Endpoint\\n\\nAfter your first login, you will be directed to the [Endpoint creation page](https://ui.endpoints.huggingface.co/new). As an example, this guide will go through the steps to deploy [distilbert-base-uncased-finetuned-sst-2-english](https://huggingface.co/distilbert-base-uncased-finetuned-sst-2-english) for text classification. \\n\\n## 1. Enter the Hugging Face Repository ID and your desired endpoint name:\\n\\n<img src=\"https://raw.githubusercontent.com/huggingface/hf-endpoints-documentation/main/assets/1_repository.png\" alt=\"select repository\" />\\n\\n## 2. Select your Cloud Provider and region. Initially, only AWS will be available as a Cloud Provider with the `us-east-1` and `eu-west-1` regions. We will add Azure soon, and if you need to test Endpoints with other Cloud Providers or regions, please let us know.\\n\\n<img src=\"https://raw.githubusercontent.com/huggingface/hf-endpoints-documentation/main/assets/1_region.png\" alt=\"select region\" />\\n\\n## 3. Define the [Security Level](security) for the Endpoint:\\n\\n<img src=\"https://raw.githubusercontent.com/huggingface/hf-endpoints-documentation/main/assets/1_security.png\" alt=\"define security\" />\\n\\n## 4. Create your Endpoint by clicking **Create Endpoint**. By default, your Endpoint is created with a medium CPU (2 x 4GB vCPUs with Intel Xeon Ice Lake) The cost estimate assumes the Endpoint will be up for an entire month, and does not take autoscaling into account.\\n\\n<img src=\"https://raw.githubusercontent.com/huggingface/hf-endpoints-documentation/main/assets/1_create_cost.png\" alt=\"create endpoint\" />\\n\\n## 5. Wait for the Endpoint to build, initialize and run which can take between 1 to 5 minutes.\\n\\n<img src=\"https://raw.githubusercontent.com/huggingface/hf-endpoints-documentation/main/assets/overview.png\" alt=\"overview\" />\\n\\n## 6. Test your Endpoint in the overview with the Inference widget 🏁 🎉!\\n\\n<img src=\"https://raw.githubusercontent.com/huggingface/hf-endpoints-documentation/main/assets/1_inference.png\" alt=\"run inference\" />\\n   \n",
       "\n",
       "                                                                                    source  \n",
       "0  huggingface/hf-endpoints-documentation/blob/main/docs/source/guides/create_endpoint.mdx  "
      ]
     },
     "execution_count": 10,
     "metadata": {},
     "output_type": "execute_result"
    }
   ],
   "source": [
    "# let's take a look at dataset first row by using pandas.\n",
    "df = ds.to_pandas()\n",
    "(df.head(1))"
   ]
  },
  {
   "cell_type": "code",
   "execution_count": 14,
   "metadata": {},
   "outputs": [
    {
     "data": {
      "application/vnd.jupyter.widget-view+json": {
       "model_id": "496ca32df87d46b686f5ae644cc5e14c",
       "version_major": 2,
       "version_minor": 0
      },
      "text/plain": [
       "  0%|          | 0/2647 [00:00<?, ?it/s]"
      ]
     },
     "metadata": {},
     "output_type": "display_data"
    }
   ],
   "source": [
    "# As we can see from the source col, its a context related to how to create endpoint in hf.\n",
    "# Now lets prepare docs for synthatic dataset generation.\n",
    "\n",
    "from langchain.text_splitter import RecursiveCharacterTextSplitter\n",
    "from langchain.docstore.document import Document as LangchainDocument\n",
    "\n",
    "langchain_docs = [LangchainDocument(page_content=doc[\"text\"], metadata={\"source\": doc[\"source\"]}) for doc in tqdm(ds)]\n",
    "\n",
    "# Using Langchain Text splitter, to break down a context into multiple chunks.\n",
    "text_splitter = RecursiveCharacterTextSplitter(\n",
    "    chunk_size=2000,\n",
    "    chunk_overlap=200,\n",
    "    add_start_index=True,\n",
    "    separators=[\"\\n\\n\", \"\\n\", \".\", \" \", \"\"],\n",
    ")\n",
    "\n",
    "docs_processed = []\n",
    "for doc in langchain_docs:\n",
    "    docs_processed += text_splitter.split_documents([doc])"
   ]
  },
  {
   "cell_type": "code",
   "execution_count": 56,
   "metadata": {},
   "outputs": [],
   "source": [
    "# Remove duplicates\n",
    "unique_texts = {}\n",
    "docs_processed_unique = []\n",
    "for doc in docs_processed:\n",
    "    if doc.page_content not in unique_texts:\n",
    "        unique_texts[doc.page_content] = True\n",
    "        docs_processed_unique.append(doc)"
   ]
  },
  {
   "cell_type": "code",
   "execution_count": 33,
   "metadata": {},
   "outputs": [
    {
     "name": "stdout",
     "output_type": "stream",
     "text": [
      "Create an Endpoint\n",
      "\n",
      "After your first login, you will be directed to the [Endpoint creation page](https://ui.endpoints.huggingface.co/new). As an example, this guide will go through the steps to deploy [distilbert-base-uncased-finetuned-sst-2-english](https://huggingface.co/distilbert-base-uncased-finetuned-sst-2-english) for text classification. \n",
      "\n",
      "## 1. Enter the Hugging Face Repository ID and your desired endpoint name:\n",
      "\n",
      "<img src=\"https://raw.githubusercontent.com/huggingface/hf-endpoints-documentation/main/assets/1_repository.png\" alt=\"select repository\" />\n",
      "\n",
      "## 2. Select your Cloud Provider and region. Initially, only AWS will be available as a Cloud Provider with the `us-east-1` and `eu-west-1` regions. We will add Azure soon, and if you need to test Endpoints with other Cloud Providers or regions, please let us know.\n",
      "\n",
      "<img src=\"https://raw.githubusercontent.com/huggingface/hf-endpoints-documentation/main/assets/1_region.png\" alt=\"select region\" />\n",
      "\n",
      "## 3. Define the [Security Level](security) for the Endpoint:\n",
      "\n",
      "<img src=\"https://raw.githubusercontent.com/huggingface/hf-endpoints-documentation/main/assets/1_security.png\" alt=\"define security\" />\n",
      "\n",
      "## 4. Create your Endpoint by clicking **Create Endpoint**. By default, your Endpoint is created with a medium CPU (2 x 4GB vCPUs with Intel Xeon Ice Lake) The cost estimate assumes the Endpoint will be up for an entire month, and does not take autoscaling into account.\n",
      "\n",
      "<img src=\"https://raw.githubusercontent.com/huggingface/hf-endpoints-documentation/main/assets/1_create_cost.png\" alt=\"create endpoint\" />\n",
      "\n",
      "## 5. Wait for the Endpoint to build, initialize and run which can take between 1 to 5 minutes.\n",
      "\n",
      "<img src=\"https://raw.githubusercontent.com/huggingface/hf-endpoints-documentation/main/assets/overview.png\" alt=\"overview\" />\n",
      "\n",
      "## 6. Test your Endpoint in the overview with the Inference widget 🏁 🎉!\n",
      "13841\n"
     ]
    }
   ],
   "source": [
    "print(docs_processed[0].page_content) # first context is broken down into two chunks.\n",
    "print(len(docs_processed)) #no of chunks."
   ]
  },
  {
   "cell_type": "code",
   "execution_count": 4,
   "metadata": {},
   "outputs": [
    {
     "name": "stdout",
     "output_type": "stream",
     "text": [
      "Give me a short introduction to large language model.  A large\n",
      "language model is a type of artificial intelligence (AI) model that\n",
      "has been trained on a vast amount of text data to generate human-like\n",
      "text. These models can be used for a variety of natural language\n",
      "processing tasks, such as text generation, translation, summarization,\n",
      "and question answering. They work by predicting the likelihood of a\n",
      "word given the previous words in a sentence, allowing them to generate\n",
      "coherent and contextually appropriate text. Some popular large\n",
      "language models include GPT-3, BERT, and RoBERTa.\n"
     ]
    }
   ],
   "source": [
    "from huggingface_hub import InferenceClient\n",
    "import textwrap\n",
    "\n",
    "# Using Mixtral , because it ranks great at chatbot arena, for generation of QA Pairs.\n",
    "repo_id = \"mistralai/Mixtral-8x7B-Instruct-v0.1\"\n",
    "\n",
    "llm_client = InferenceClient(\n",
    "    model=repo_id,\n",
    "    timeout=200,\n",
    ")\n",
    "\n",
    "\n",
    "def call_llm(inference_client: InferenceClient, prompt: str):\n",
    "    response = inference_client.post(\n",
    "        json={\n",
    "            \"inputs\": prompt,\n",
    "            \"parameters\": {\"max_new_tokens\": 400},\n",
    "            \"task\": \"text-generation\",\n",
    "        },\n",
    "    )\n",
    "    return json.loads(response.decode())[0][\"generated_text\"]\n",
    "\n",
    "\n",
    "response = call_llm(llm_client, \"Give me a short introduction to large language model.\")\n",
    "print(textwrap.fill(text=response,width=70)) # 50 characters per line."
   ]
  },
  {
   "cell_type": "code",
   "execution_count": 5,
   "metadata": {},
   "outputs": [],
   "source": [
    "# Our Prompt Template For QA Pairs.\n",
    "QA_generation_prompt = \"\"\"\n",
    "Your task is to write a factoid question and an answer given a context.\n",
    "Your factoid question should be answerable with a specific, concise piece of factual information from the context.\n",
    "Your factoid question should be formulated in the same style as questions users could ask in a search engine.\n",
    "This means that your factoid question MUST NOT mention something like \"according to the passage\" or \"context\".\n",
    "\n",
    "Provide your answer as follows:\n",
    "\n",
    "Output:::\n",
    "Factoid question: (your factoid question)\n",
    "Answer: (your answer to the factoid question)\n",
    "\n",
    "Now here is the context.\n",
    "\n",
    "Context: {context}\\n\n",
    "Output:::\"\"\""
   ]
  },
  {
   "cell_type": "code",
   "execution_count": 59,
   "metadata": {},
   "outputs": [
    {
     "name": "stdout",
     "output_type": "stream",
     "text": [
      " Your task is to write a factoid question and an answer given a\n",
      "context. Your factoid question should be answerable with a specific,\n",
      "concise piece of factual information from the context. Your factoid\n",
      "question should be formulated in the same style as questions users\n",
      "could ask in a search engine. This means that your factoid question\n",
      "MUST NOT mention something like \"according to the passage\" or\n",
      "\"context\".  Provide your answer as follows:  Output::: Factoid\n",
      "question: (your factoid question) Answer: (your answer to the factoid\n",
      "question)  Now here is the context.  Context: Create an Endpoint\n",
      "After your first login, you will be directed to the [Endpoint creation\n",
      "page](https://ui.endpoints.huggingface.co/new). As an example, this\n",
      "guide will go through the steps to deploy [distilbert-base-uncased-\n",
      "finetuned-sst-2-english](https://huggingface.co/distilbert-base-\n",
      "uncased-finetuned-sst-2-english) for text classification.   ## 1.\n",
      "Enter the Hugging Face Repository ID and your desired endpoint name:\n",
      "<img src=\"https://raw.githubusercontent.com/huggingface/hf-endpoints-\n",
      "documentation/main/assets/1_repository.png\" alt=\"select repository\" />\n",
      "## 2. Select your Cloud Provider and region. Initially, only AWS will\n",
      "be available as a Cloud Provider with the `us-east-1` and `eu-west-1`\n",
      "regions. We will add Azure soon, and if you need to test Endpoints\n",
      "with other Cloud Providers or regions, please let us know.  <img\n",
      "src=\"https://raw.githubusercontent.com/huggingface/hf-endpoints-\n",
      "documentation/main/assets/1_region.png\" alt=\"select region\" />  ## 3.\n",
      "Define the [Security Level](security) for the Endpoint:  <img\n",
      "src=\"https://raw.githubusercontent.com/huggingface/hf-endpoints-\n",
      "documentation/main/assets/1_security.png\" alt=\"define security\" />  ##\n",
      "4. Create your Endpoint by clicking **Create Endpoint**. By default,\n",
      "your Endpoint is created with a medium CPU (2 x 4GB vCPUs with Intel\n",
      "Xeon Ice Lake) The cost estimate assumes the Endpoint will be up for\n",
      "an entire month, and does not take autoscaling into account.  <img\n",
      "src=\"https://raw.githubusercontent.com/huggingface/hf-endpoints-\n",
      "documentation/main/assets/1_create_cost.png\" alt=\"create endpoint\" />\n",
      "## 5. Wait for the Endpoint to build, initialize and run which can\n",
      "take between 1 to 5 minutes.  <img\n",
      "src=\"https://raw.githubusercontent.com/huggingface/hf-endpoints-\n",
      "documentation/main/assets/overview.png\" alt=\"overview\" />  ## 6. Test\n",
      "your Endpoint in the overview with the Inference widget 🏁 🎉!\n",
      "Output:::  Factoid question: What is the default CPU type for the\n",
      "Endpoint? Answer: The default CPU type for the Endpoint is 2 x 4GB\n",
      "vCPUs with Intel Xeon Ice Lake.\n"
     ]
    }
   ],
   "source": [
    "#Sample QA Pair By LLM, Using Context. \n",
    "\n",
    "response=call_llm(llm_client, QA_generation_prompt.format(context=docs_processed[0].page_content))\n",
    "print(textwrap.fill(text=response,width=70))"
   ]
  },
  {
   "cell_type": "code",
   "execution_count": null,
   "metadata": {},
   "outputs": [],
   "source": [
    "# Lets Generate Pairs.\n",
    "import random\n",
    "\n",
    "Num_of_generations = 200 # Samples of QA pairs. I am creating 200 samples, some of them will be filtered out.\n",
    "\n",
    "outputs = []\n",
    "\n",
    "for sample_context in tqdm(random.sample(docs_processed,Num_of_generations)):\n",
    "    output_of_llm = call_llm(inference_client=llm_client,prompt=QA_generation_prompt.format(context=sample_context.page_content))\n",
    "\n",
    "    try:\n",
    "        # First split before and after Factoid question, take the part containing the question (generated)\n",
    "        # and answer and then again splitting it.\n",
    "        question = output_of_llm.split(\"Factoid question: \")[-1].split(\"Answer: \")[0]\n",
    "        answer = output_of_llm.split(\"Answer:\")[-1]\n",
    "        print(f'Question: {question}')\n",
    "        print(f'Answer: {answer}')\n",
    "\n",
    "        outputs.append(\n",
    "            {\n",
    "                \"context\": sample_context.page_content,\n",
    "                \"question\": question,\n",
    "                \"answer\": answer,\n",
    "                \"source_doc\": sample_context.metadata[\"source\"],\n",
    "            }\n",
    "        )\n",
    "    except Exception as e:\n",
    "        print(f\"Exception occured while processing: {e}\")\n",
    "        continue\n",
    "\n",
    "# Save the outputs to a JSON file\n",
    "output_file = \"qa_pairs.json\"\n",
    "with open(output_file, \"w\", encoding=\"utf-8\") as f:\n",
    "    json.dump(outputs, f, indent=4, ensure_ascii=False)"
   ]
  },
  {
   "cell_type": "code",
   "execution_count": 6,
   "metadata": {},
   "outputs": [],
   "source": [
    "# Now we need to Filter out QA Pairs, which are irrelevant\n",
    "# Some Generated pairs are not up to mark so we will filter those.\n",
    "\n",
    "#We Will filter based on 3 things. Question Groundness, Question Relevance and Question Standalone.\n",
    "\n",
    "#Templates\n",
    "\n",
    "#Can the question be answered without any confusion using the context?\n",
    "question_groundedness_critique_prompt = \"\"\"\n",
    "You will be given a context and a question.\n",
    "Your task is to provide a 'total rating' scoring how well one can answer the given question unambiguously with the given context.\n",
    "Give your answer on a scale of 1 to 5, where 1 means that the question is not answerable at all given the context, and 5 means that the question is clearly and unambiguously answerable with the context.\n",
    "\n",
    "Provide your answer as follows:\n",
    "\n",
    "Answer:::\n",
    "Evaluation: (your rationale for the rating, as a text)\n",
    "Total rating: (your rating, as a number between 1 and 5)\n",
    "\n",
    "You MUST provide values for 'Evaluation:' and 'Total rating:' in your answer.\n",
    "\n",
    "Now here are the question and context.\n",
    "\n",
    "Question: {question}\\n\n",
    "Context: {context}\\n\n",
    "Answer::: \"\"\"\n",
    "\n",
    "#How Much the Question is Related to the Dataset provided about NLP Aplications.\n",
    "question_relevance_critique_prompt = \"\"\"\n",
    "You will be given a question.\n",
    "Your task is to provide a 'total rating' representing how useful this question can be to machine learning developers building NLP applications with the Hugging Face ecosystem.\n",
    "Give your answer on a scale of 1 to 5, where 1 means that the question is not useful at all, and 5 means that the question is extremely useful.\n",
    "\n",
    "Provide your answer as follows:\n",
    "\n",
    "Answer:::\n",
    "Evaluation: (your rationale for the rating, as a text)\n",
    "Total rating: (your rating, as a number between 1 and 5)\n",
    "\n",
    "You MUST provide values for 'Evaluation:' and 'Total rating:' in your answer.\n",
    "\n",
    "Now here is the question.\n",
    "\n",
    "Question: {question}\\n\n",
    "Answer::: \"\"\"\n",
    "\n",
    "# Can the Question Dependent on the Context?\n",
    "question_standalone_critique_prompt = \"\"\"\n",
    "You will be given a question.\n",
    "Your task is to provide a 'total rating' representing how context-independant this question is.\n",
    "Give your answer on a scale of 1 to 5, where 1 means that the question depends on additional information to be understood, and 5 means that the question makes sense by itself.\n",
    "For instance, if the question refers to a particular setting, like 'in the context' or 'in the document', the rating must be 1.\n",
    "The questions can contain obscure technical nouns or acronyms like Gradio, Hub, Hugging Face or Space and still be a 5: it must simply be clear to an operator with access to documentation what the question is about.\n",
    "\n",
    "For instance, \"What is the name of the checkpoint from which the ViT model is imported?\" should receive a 1, since there is an implicit mention of a context, thus the question is not independant from the context.\n",
    "\n",
    "Provide your answer as follows:\n",
    "\n",
    "Answer:::\n",
    "Evaluation: (your rationale for the rating, as a text)\n",
    "Total rating: (your rating, as a number between 1 and 5)\n",
    "\n",
    "You MUST provide values for 'Evaluation:' and 'Total rating:' in your answer.\n",
    "\n",
    "Now here is the question.\n",
    "\n",
    "Question: {question}\\n\n",
    "Answer::: \"\"\""
   ]
  },
  {
   "cell_type": "code",
   "execution_count": 10,
   "metadata": {},
   "outputs": [],
   "source": [
    "# Load Unfiltered-QA Pairs From Output File, if Required.\n",
    "with open(\"qa_pairs.json\", \"r\") as file:\n",
    "    outputs = json.load(file)"
   ]
  },
  {
   "cell_type": "code",
   "execution_count": null,
   "metadata": {},
   "outputs": [],
   "source": [
    "print(\"Generating critique for each QA couple...\")\n",
    "for output in tqdm(outputs):\n",
    "    evaluations = {\n",
    "        \"groundedness\": call_llm(\n",
    "            llm_client,\n",
    "            question_groundedness_critique_prompt.format(context=output[\"context\"], question=output[\"question\"]),\n",
    "        ),\n",
    "        \"relevance\": call_llm(\n",
    "            llm_client,\n",
    "            question_relevance_critique_prompt.format(question=output[\"question\"]),\n",
    "        ),\n",
    "        \"standalone\": call_llm(\n",
    "            llm_client,\n",
    "            question_standalone_critique_prompt.format(question=output[\"question\"]),\n",
    "        ),\n",
    "    }\n",
    "    try:\n",
    "        for criterion, evaluation in evaluations.items():\n",
    "            score, eval = (\n",
    "                int(evaluation.split(\"Total rating: \")[-1].strip()),\n",
    "                evaluation.split(\"Total rating: \")[-2].split(\"Evaluation: \")[1],\n",
    "            )\n",
    "            output.update(\n",
    "                {\n",
    "                    f\"{criterion}_score\": score,\n",
    "                    f\"{criterion}_eval\": eval,\n",
    "                }\n",
    "            )\n",
    "    except Exception as e:\n",
    "        continue\n",
    "\n",
    "# Create a Pandas DataFrame.\n",
    "generated_questions = pd.DataFrame.from_dict(outputs)\n",
    "\n",
    "#Filter Out Based on Score.\n",
    "generated_questions = generated_questions.loc[\n",
    "    (generated_questions[\"groundedness_score\"] >= 4)\n",
    "    & (generated_questions[\"relevance_score\"] >= 4)\n",
    "    & (generated_questions[\"standalone_score\"] >= 4)\n",
    "]\n",
    "#Convert DataFrame back to HuggingFace Dataset Format.\n",
    "eval_dataset=datasets.Dataset.from_pandas(df=generated_questions,split=\"train\",preserve_index=False)\n",
    "#Save in Json File.\n",
    "eval_dataset.to_json(\"qa_pairs_filtered.json\")"
   ]
  },
  {
   "cell_type": "code",
   "execution_count": 12,
   "metadata": {},
   "outputs": [
    {
     "data": {
      "application/vnd.jupyter.widget-view+json": {
       "model_id": "b0ebb4906c4241ac9a4f1e758ad26d3c",
       "version_major": 2,
       "version_minor": 0
      },
      "text/plain": [
       "README.md:   0%|          | 0.00/893 [00:00<?, ?B/s]"
      ]
     },
     "metadata": {},
     "output_type": "display_data"
    },
    {
     "name": "stderr",
     "output_type": "stream",
     "text": [
      "d:\\Study\\Anaconda\\envs\\disruptive_ai\\lib\\site-packages\\huggingface_hub\\file_download.py:159: UserWarning: `huggingface_hub` cache-system uses symlinks by default to efficiently store duplicated files but your machine does not support them in C:\\Users\\GNG\\.cache\\huggingface\\hub\\datasets--m-ric--huggingface_doc_qa_eval. Caching files will still work but in a degraded version that might require more space on your disk. This warning can be disabled by setting the `HF_HUB_DISABLE_SYMLINKS_WARNING` environment variable. For more details, see https://huggingface.co/docs/huggingface_hub/how-to-cache#limitations.\n",
      "To support symlinks on Windows, you either need to activate Developer Mode or to run Python as an administrator. In order to see activate developer mode, see this article: https://docs.microsoft.com/en-us/windows/apps/get-started/enable-your-device-for-development\n",
      "  warnings.warn(message)\n"
     ]
    },
    {
     "data": {
      "application/vnd.jupyter.widget-view+json": {
       "model_id": "67dff6ec84dc44558d4c879fe7808dc1",
       "version_major": 2,
       "version_minor": 0
      },
      "text/plain": [
       "train-00000-of-00001.parquet:   0%|          | 0.00/289k [00:00<?, ?B/s]"
      ]
     },
     "metadata": {},
     "output_type": "display_data"
    },
    {
     "data": {
      "application/vnd.jupyter.widget-view+json": {
       "model_id": "a5c517b6cc2b4a36b099cbb582a48cee",
       "version_major": 2,
       "version_minor": 0
      },
      "text/plain": [
       "Generating train split:   0%|          | 0/65 [00:00<?, ? examples/s]"
      ]
     },
     "metadata": {},
     "output_type": "display_data"
    }
   ],
   "source": [
    "# Pre-generated Dataset.\n",
    "eval_dataset = datasets.load_dataset(\"m-ric/huggingface_doc_qa_eval\", split=\"train\")"
   ]
  },
  {
   "cell_type": "markdown",
   "metadata": {},
   "source": [
    "OUR RAG SYSTEM ON WHICH DATASET WILL BE EVALUATED"
   ]
  },
  {
   "cell_type": "code",
   "execution_count": 59,
   "metadata": {},
   "outputs": [],
   "source": [
    "# Convert the document (data) into llama-index documents.\n",
    "# We Will use chunked Context we created earlier.\n",
    "\n",
    "from llama_index.core import Document as LlamaDocument\n",
    "\n",
    "llama_index_docs = []\n",
    "for doc in docs_processed_unique:\n",
    "    llama_index_docs.append(LlamaDocument(\n",
    "        text=doc.page_content,\n",
    "        metadata=doc.metadata\n",
    "    ))\n",
    "\n",
    "#Llama-Index Docs are being used by our RAG System."
   ]
  },
  {
   "cell_type": "code",
   "execution_count": null,
   "metadata": {},
   "outputs": [
    {
     "name": "stdout",
     "output_type": "stream",
     "text": [
      "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\n"
     ]
    }
   ],
   "source": [
    "# RAG QUERY ROUTER AND QUERY ENGINE IN LLAMA_INDEX.\n",
    "# LlamaIndex imports\n",
    "from llama_index.core import VectorStoreIndex, StorageContext, load_index_from_storage\n",
    "from llama_index.llms.groq import Groq\n",
    "from llama_index.embeddings.huggingface import HuggingFaceEmbedding\n",
    "from dotenv import load_dotenv\n",
    "\n",
    "# LlamaIndex LLM and Embed Model.\n",
    "load_dotenv(dotenv_path=\".env\")\n",
    "\n",
    "groq_api_key = os.getenv(key=\"GROQ_API_KEY\")\n",
    "print(groq_api_key)\n",
    "\n",
    "llm = Groq(api_key=groq_api_key, model=\"llama3-8b-8192\")\n",
    "\n",
    "#Loading Pre-trained Embedding Model, Change Model based on performance.\n",
    "embed_model = HuggingFaceEmbedding(model_name=\"sentence-transformers/all-MiniLM-L6-v2\")\n",
    "\n",
    "def create_query_engine(\n",
    "    documents_processed, \n",
    "    chunk_size=1024, \n",
    "    num_of_docs=5, \n",
    "    index_storage_path='./index_storage'\n",
    "):\n",
    "    # Check if index already exists\n",
    "    if os.path.exists(index_storage_path):\n",
    "        # Load existing index\n",
    "        storage_context = StorageContext.from_defaults(persist_dir=index_storage_path)\n",
    "        vector_index = load_index_from_storage(storage_context)\n",
    "        print(\"Loaded existing index from storage\")\n",
    "    else:\n",
    "        # Create progress callback\n",
    "        def progress_callback(nodes_processed, total_nodes):\n",
    "            progress = (nodes_processed / total_nodes) * 100\n",
    "            print(f\"Indexing progress: {progress:.2f}% ({nodes_processed}/{total_nodes} nodes)\")\n",
    "        \n",
    "        # Create index with progress tracking\n",
    "        vector_index = VectorStoreIndex.from_documents(\n",
    "            documents_processed, \n",
    "            chunk_size=chunk_size,\n",
    "            show_progress=True,  # Llama-index built-in progress\n",
    "            callback=progress_callback  # Optional custom callback\n",
    "        )\n",
    "        \n",
    "        # Persist index for future use\n",
    "        vector_index.storage_context.persist(persist_dir=index_storage_path)\n",
    "        print(f\"Index saved to {index_storage_path}\")\n",
    "\n",
    "    # Create query engine\n",
    "    vector_query_engine = vector_index.as_query_engine(\n",
    "        similarity_top_k=num_of_docs, \n",
    "        response_mode=\"compact\"\n",
    "    )\n",
    "    \n",
    "    return vector_query_engine\n",
    "\n",
    "def get_rag_response(query,query_engine):\n",
    "    response = query_engine.query(query)\n",
    "\n",
    "    generated_ans = str(response)\n",
    "\n",
    "    # Extract relevant source nodes\n",
    "    retrieved_nodes = response.source_nodes\n",
    "    \n",
    "    # Format retrieved nodes for easy reading\n",
    "    retrieved_docs = [\n",
    "        {\n",
    "            \"text\": node.node.text,\n",
    "            \"score\": node.score,\n",
    "            \"metadata\": node.node.metadata\n",
    "        } for node in retrieved_nodes\n",
    "    ]\n",
    "\n",
    "    return {\n",
    "        \"answer\": generated_ans,\n",
    "        \"retrieved_docs\": retrieved_docs\n",
    "    }"
   ]
  },
  {
   "cell_type": "code",
   "execution_count": null,
   "metadata": {},
   "outputs": [
    {
     "data": {
      "application/vnd.jupyter.widget-view+json": {
       "model_id": "c0af41c8cb8842ac963f82edcaa95696",
       "version_major": 2,
       "version_minor": 0
      },
      "text/plain": [
       "Parsing nodes:   0%|          | 0/13017 [00:00<?, ?it/s]"
      ]
     },
     "metadata": {},
     "output_type": "display_data"
    },
    {
     "data": {
      "application/vnd.jupyter.widget-view+json": {
       "model_id": "e96e413c43d14adcb881cc7509e17390",
       "version_major": 2,
       "version_minor": 0
      },
      "text/plain": [
       "Generating embeddings:   0%|          | 0/2048 [00:00<?, ?it/s]"
      ]
     },
     "metadata": {},
     "output_type": "display_data"
    },
    {
     "data": {
      "application/vnd.jupyter.widget-view+json": {
       "model_id": "49c5120c9d1041f2bc4cc4598e628674",
       "version_major": 2,
       "version_minor": 0
      },
      "text/plain": [
       "Generating embeddings:   0%|          | 0/2048 [00:00<?, ?it/s]"
      ]
     },
     "metadata": {},
     "output_type": "display_data"
    },
    {
     "data": {
      "application/vnd.jupyter.widget-view+json": {
       "model_id": "bcd55c5c35754da49f673c4fc1b56ee1",
       "version_major": 2,
       "version_minor": 0
      },
      "text/plain": [
       "Generating embeddings:   0%|          | 0/2048 [00:00<?, ?it/s]"
      ]
     },
     "metadata": {},
     "output_type": "display_data"
    },
    {
     "data": {
      "application/vnd.jupyter.widget-view+json": {
       "model_id": "dbe6f66adbdb4d10b8be17e0f31d3768",
       "version_major": 2,
       "version_minor": 0
      },
      "text/plain": [
       "Generating embeddings:   0%|          | 0/2048 [00:00<?, ?it/s]"
      ]
     },
     "metadata": {},
     "output_type": "display_data"
    },
    {
     "data": {
      "application/vnd.jupyter.widget-view+json": {
       "model_id": "f39e43c417e140af9b9032f3f6e243e4",
       "version_major": 2,
       "version_minor": 0
      },
      "text/plain": [
       "Generating embeddings:   0%|          | 0/2048 [00:00<?, ?it/s]"
      ]
     },
     "metadata": {},
     "output_type": "display_data"
    },
    {
     "data": {
      "application/vnd.jupyter.widget-view+json": {
       "model_id": "ee706a3f468e4d73825fef5b4fe4c34c",
       "version_major": 2,
       "version_minor": 0
      },
      "text/plain": [
       "Generating embeddings:   0%|          | 0/2048 [00:00<?, ?it/s]"
      ]
     },
     "metadata": {},
     "output_type": "display_data"
    },
    {
     "data": {
      "application/vnd.jupyter.widget-view+json": {
       "model_id": "75031d1225ee45f5847808f9269646e0",
       "version_major": 2,
       "version_minor": 0
      },
      "text/plain": [
       "Generating embeddings:   0%|          | 0/811 [00:00<?, ?it/s]"
      ]
     },
     "metadata": {},
     "output_type": "display_data"
    },
    {
     "name": "stdout",
     "output_type": "stream",
     "text": [
      "Index saved to ./index_storage\n"
     ]
    },
    {
     "data": {
      "text/plain": [
       "<llama_index.core.query_engine.retriever_query_engine.RetrieverQueryEngine at 0x2d02a1ea680>"
      ]
     },
     "execution_count": 61,
     "metadata": {},
     "output_type": "execute_result"
    }
   ],
   "source": [
    "create_query_engine(documents_processed=llama_index_docs)"
   ]
  },
  {
   "cell_type": "code",
   "execution_count": 63,
   "metadata": {},
   "outputs": [
    {
     "name": "stdout",
     "output_type": "stream",
     "text": [
      "Loaded existing index from storage\n"
     ]
    }
   ],
   "source": [
    "vector_query_engine = create_query_engine(documents_processed=llama_index_docs)\n",
    "response = get_rag_response(query='What architecture is the `tokenizers-linux-x64-musl` binary designed for?\\n',query_engine=vector_query_engine)"
   ]
  },
  {
   "cell_type": "code",
   "execution_count": 71,
   "metadata": {},
   "outputs": [
    {
     "data": {
      "application/vnd.jupyter.widget-view+json": {
       "model_id": "0e276b38f8de474bbf49c2d143bd20ac",
       "version_major": 2,
       "version_minor": 0
      },
      "text/plain": [
       "  0%|          | 0/65 [00:00<?, ?it/s]"
      ]
     },
     "metadata": {},
     "output_type": "display_data"
    },
    {
     "name": "stdout",
     "output_type": "stream",
     "text": [
      "Question: What architecture is the `tokenizers-linux-x64-musl` binary designed for?\n",
      "\n",
      "True Answer: x86_64-unknown-linux-musl\n",
      "RAG Answer: x86_64\n",
      "Question: What is the purpose of the BLIP-Diffusion model?\n",
      "\n",
      "True Answer: The BLIP-Diffusion model is designed for controllable text-to-image generation and editing.\n",
      "RAG Answer: There is no mention of the BLIP-Diffusion model in the provided context. The context only talks about Stable Diffusion, Latent Diffusion, and Diffusers, but not BLIP-Diffusion.\n",
      "Question: How can a user claim authorship of a paper on the Hugging Face Hub?\n",
      "\n",
      "True Answer: By clicking their name on the corresponding Paper page and clicking \"claim authorship\", then confirming the request in paper settings for admin team validation.\n",
      "RAG Answer: If your paper is not linked to your account, you can click in your name in the corresponding Paper page and click \"claim authorship\". This will automatically re-direct to your paper settings where you can confirm the request.\n",
      "Question: What is the purpose of the /healthcheck endpoint in the Datasets server API?\n",
      "\n",
      "True Answer: Ensure the app is running\n",
      "RAG Answer: Ensure the app is running.\n",
      "Question: What is the default context window size for Local Attention in the LongT5 model?\n",
      "\n",
      "True Answer: 127 tokens\n",
      "RAG Answer: 127\n",
      "Question: What method is used to load a checkpoint for a task using `AutoPipeline`?\n",
      "\n",
      "True Answer: from_pretrained()\n",
      "RAG Answer: The method used to load a checkpoint for a task using `AutoPipeline` is `from_pretrained()`.\n",
      "Question: What is the purpose of Diffusers library?\n",
      "\n",
      "True Answer: To serve as a modular toolbox for both inference and training of state-of-the-art pretrained diffusion models across multiple modalities.\n",
      "RAG Answer: The purpose of the Diffusers library is to provide a lightweight, easy-to-use, and contributor-friendly package for diffusion-based machine learning models, with a focus on usability and simplicity over performance and abstraction.\n",
      "Question: What method does the EulerAncestralDiscreteScheduler use for sampling?\n",
      "\n",
      "True Answer: Ancestral sampling with Euler method steps.\n",
      "RAG Answer: Ancestral sampling with Euler method steps.\n",
      "Question: What is the name of the large multimodal model that can solve image-text tasks and is based on Flamingo?\n",
      "\n",
      "True Answer: IDEFICS\n",
      "RAG Answer: IDEFICS\n",
      "Question: What is the purpose of the `gradio.Blocks` API?\n",
      "\n",
      "True Answer: The `gradio.Blocks` API allows you to have full control over the data flows and layout of your application, enabling the building of complex, multi-step applications.\n",
      "RAG Answer: The purpose of the `gradio.Blocks` API is to provide a low-level API that allows for full control over the data flows and layout of a Gradio application, enabling the creation of complex, multi-step applications with flexible data flows.\n",
      "Question: What is the purpose of the two-stage model proposed in the paper \"Hierarchical Text-Conditional Image Generation with CLIP Latents\"?\n",
      "\n",
      "True Answer: The purpose of the two-stage model is to generate a CLIP image embedding given a text caption and then generate an image conditioned on the image embedding.\n",
      "RAG Answer: The query does not provide any information about a two-stage model proposed in a paper, nor does it mention CLIP Latents. The provided context information appears to be a collection of documentation pages from Hugging Face, covering various topics such as diffusion models, image generation, and CLIP. Therefore, it is not possible to answer the query based on the provided context.\n",
      "Question: What command is used to install the requirements for a research project using 🤗 Transformers?\n",
      "\n",
      "True Answer: pip install -r requirements.txt\n",
      "RAG Answer: pip install -r requirements.txt\n",
      "Question: What task does the `roberta-large-mnli` checkpoint perform?\n",
      "\n",
      "True Answer: Text classification\n",
      "RAG Answer: Based on the context, it seems that the `roberta-large-mnli` checkpoint is used for question-answering tasks.\n",
      "Question: What service is replacing the Paid tier of the Inference API at Hugging Face?\n",
      "\n",
      "True Answer: Inference Endpoints\n",
      "RAG Answer: Inference Endpoints.\n",
      "Question: What architectural feature does SqueezeBERT use instead of fully-connected layers for the Q, K, V, and FFN layers?\n",
      "\n",
      "True Answer: Grouped convolutions\n",
      "RAG Answer: The query is not related to the provided context information. The context information discusses various architectures, including MoE, Diffusion, and Transformers, but does not mention SqueezeBERT. Therefore, it is not possible to answer the query based on the provided context information.\n",
      "Question: What type of license is the HuggingFace Team's software distributed under?\n",
      "\n",
      "True Answer: Apache License, Version 2.0\n",
      "RAG Answer: The HuggingFace Team's software is distributed under the Apache License, Version 2.0.\n",
      "Question: What are the two parameter-reduction techniques proposed in the ALBERT model to lower memory consumption and increase training speed?\n",
      "\n",
      "True Answer: Splitting the embedding matrix into two smaller matrices and using repeating layers split among groups.\n",
      "RAG Answer: ALBERT reduces memory consumption by lowering the number of parameters in two ways: separating the larger vocabulary embedding into two smaller matrices and allowing layers to share parameters.\n",
      "Question: What are the three main steps for fine-tuning a model with the 🤗 Datasets library?\n",
      "\n",
      "True Answer: 1. Load a dataset from the Hugging Face Hub. 2. Preprocess the data with `Dataset.map()`. 3. Load and compute metrics.\n",
      "RAG Answer: Load a dataset from the Hugging Face Hub, preprocess the data with `Dataset.map()`, and load and compute metrics.\n",
      "Question: What is the maximum improvement in throughput achieved by Hugging Face Infinity compared to vanilla transformers?\n",
      "\n",
      "True Answer: +800%\n",
      "RAG Answer: The maximum improvement in throughput achieved by Hugging Face Infinity compared to vanilla transformers is not explicitly stated in the provided context. However, it is mentioned that Hugging Face Infinity offers a containerized solution that makes it easy to deploy low-latency, high-throughput, hardware-accelerated inference pipelines for the most popular Transformer models. This implies that Hugging Face Infinity can achieve significant improvements in throughput compared to vanilla transformers, but the exact magnitude of the improvement is not provided.\n",
      "Question: What is the command to upload a spaCy pipeline to the Hugging Face Hub?\n",
      "\n",
      "True Answer: python -m spacy huggingface-hub push en_ner_fashion-0.0.0-py3-none-any.whl\n",
      "RAG Answer: The command to upload a spaCy pipeline to the Hugging Face Hub is:\n",
      "\n",
      "```\n",
      "python -m spacy huggingface-hub push [whl_path] [--org] [--msg] [--local-repo] [--verbose]\n",
      "```\n",
      "\n",
      "Where `[whl_path]` is the path to the `.whl` file packaged with `spacy package`.\n",
      "Question: What is the time and memory complexity of the Nyströmformer's approximation of self-attention?\n",
      "\n",
      "True Answer: O(n)\n",
      "RAG Answer: The time and memory complexity of the Nyströmformer's approximation of self-attention is O(n).\n",
      "Question: What is the goal of the Named Entity Recognition task in token classification?\n",
      "\n",
      "True Answer: The goal of the Named Entity Recognition task is to find the entities in a piece of text, such as person, location, or organization.\n",
      "RAG Answer: The goal of the Named Entity Recognition task in token classification is to find the entities in a piece of text, such as person, location, or organization.\n",
      "Question: What is the resolution of images used by the CLIPSeg model?\n",
      "\n",
      "True Answer: 352 x 352 pixels\n",
      "RAG Answer: Based on the provided context, the resolution of images used by the CLIPSeg model is not explicitly mentioned. However, we can infer that the model is designed to work with images of varying resolutions, as it is mentioned that the model is capable of classifying images without annotations.\n",
      "Question: What can you use Gradio for?\n",
      "\n",
      "True Answer: Create a demo for your machine learning model, share your machine learning model with others, and debug your model.\n",
      "RAG Answer: You can use Gradio to quickly build a demo or web application for your machine learning model, API, or any arbitrary Python function.\n",
      "Question: What TensorFlow API function is used to load a saved tensor file?\n",
      "\n",
      "True Answer: safetensors.tensorflow.load_file\n",
      "RAG Answer: The TensorFlow API function used to load a saved tensor file is `safetensors.tensorflow.load_file`.\n",
      "Question: Where can you access the logs of your Endpoints in Hugging Face Endpoints?\n",
      "\n",
      "True Answer: In the \"Logs\" tab of your Endpoint through the UI.\n",
      "RAG Answer: You can access the logs of your Endpoints in the \"Logs\" tab of your Endpoint in the UI.\n",
      "Question: What is the latest task added to Hugging Face AutoTrain for Computer Vision?\n",
      "\n",
      "True Answer: Image Classification\n",
      "RAG Answer: Based on the provided context information, the latest task added to Hugging Face AutoTrain for Computer Vision is not explicitly mentioned. However, the context does mention that Hugging Face has been focusing on computer vision over the last year and has added 8 core vision tasks, including image classification, image segmentation, object detection, and more.\n",
      "Question: What is the default repository type created by the `create_repo` function on Hugging Face Hub?\n",
      "\n",
      "True Answer: model\n",
      "RAG Answer: The default repository type created by the `create_repo` function on Hugging Face Hub is a model repository.\n",
      "Question: How many splits does the \"duorc\" dataset have?\n",
      "\n",
      "True Answer: Six\n",
      "RAG Answer: The \"duorc\" dataset has 3 splits: \"train\", \"validation\", and \"test\".\n",
      "Question: What is the purpose of Fully Sharded Data Parallel (FSDP) in distributed training?\n",
      "\n",
      "True Answer: FSDP is developed for distributed training of large pretrained models up to 1T parameters by sharding the model parameters, gradients, and optimizer states across data parallel processes.\n",
      "RAG Answer: FSDP is developed for distributed training of large pretrained models up to 1T parameters.\n",
      "Question: What file format is used to save and store PyTorch model weights more securely than `.bin` files?\n",
      "\n",
      "True Answer: `.safetensors`\n",
      "RAG Answer: The file format used to save and store PyTorch model weights more securely than `.bin` files is `safetensors`.\n",
      "Question: What type of security certification does Hugging Face have?\n",
      "\n",
      "True Answer: SOC2 Type 2 certified\n",
      "RAG Answer: CNIL (French Data Protection Authority) Enhanced Support program.\n",
      "Question: What do RAG models combine to generate outputs?\n",
      "\n",
      "True Answer: Pretrained dense retrieval (DPR) and sequence-to-sequence models.\n",
      "RAG Answer: RAG models combine the powers of pretrained dense retrieval (DPR) and Seq2Seq models.\n",
      "Question: What library does MarkupLMFeatureExtractor use to extract data from HTML and XML files?\n",
      "\n",
      "True Answer: Beautiful Soup\n",
      "RAG Answer: Beautiful Soup.\n",
      "Question: What is the file size limit for syncing to HF Spaces without using Git-LFS?\n",
      "\n",
      "True Answer: 10MB\n",
      "RAG Answer: 10MB\n",
      "Question: What is the title of the paper introducing the ByT5 model?\n",
      "\n",
      "True Answer: ByT5: Towards a token-free future with pre-trained byte-to-byte models\n",
      "RAG Answer: There is no mention of the ByT5 model in the provided context information.\n",
      "Question: What is the dimension of the feature vector for the base BERT model?\n",
      "\n",
      "True Answer: 768\n",
      "RAG Answer: 768\n",
      "Question: What special identifier does the WordPiece Model use for continuing subwords?\n",
      "\n",
      "True Answer: ##\n",
      "RAG Answer: The special identifier used by the WordPiece Model for continuing subwords is the `##` prefix.\n",
      "Question: What is the purpose of the 🧨 Diffusers tutorials?\n",
      "\n",
      "True Answer: To provide a gentle introduction to diffusion models and help understand the library fundamentals.\n",
      "RAG Answer: The purpose of the 🧨 Diffusers tutorials is to support novel applications and usages of the Diffusers library by adding experimental code.\n",
      "Question: What is the default setting for the `allow_flagging` parameter in Gradio's `Interface`?\n",
      "\n",
      "True Answer: \"manual\"\n",
      "RAG Answer: The default setting for the `allow_flagging` parameter in Gradio's `Interface` is `\"manual\"`.\n",
      "Question: Where can the full code for the Stable Diffusion demo be found?\n",
      "\n",
      "True Answer: https://hf.co/spaces/stabilityai/stable-diffusion/tree/main\n",
      "RAG Answer: The full code for the Stable Diffusion demo can be found on the [CompVis](https://huggingface.co/CompVis) and [Stability AI](https://huggingface.co/stabilityai) Hub organizations, as well as on the [Runway](https://huggingface.co/runwayml) Hub organization.\n",
      "Question: What transformation does the FNet model use to replace the self-attention layer in a BERT model?\n",
      "\n",
      "True Answer: Fourier transform\n",
      "RAG Answer: The FNet model uses a standard, unparameterized Fourier Transform to replace the self-attention layer in a BERT model.\n",
      "Question: What type of test should typically accompany a bug fix in Gradio's testing strategy?\n",
      "\n",
      "True Answer: Dynamic code test\n",
      "RAG Answer: A dynamic code test.\n",
      "Question: How can you force mixed precision training when initializing the Accelerator in 🤗 Accelerate?\n",
      "\n",
      "True Answer: By passing `fp16=True` to the Accelerator init.\n",
      "RAG Answer: You can force mixed precision training when initializing the Accelerator in 🤗 Accelerate by passing `fp16=True` to the `Accelerator` constructor.\n",
      "Question: What is the purpose of tokenizers in the NLP pipeline?\n",
      "\n",
      "True Answer: To translate text into data that can be processed by the model.\n",
      "RAG Answer: Tokenizers are used to split strings into sub-word token strings, convert token strings to ids, and encode/decode strings. They also manage special tokens, such as mask, beginning-of-sentence, etc., and add new tokens to the vocabulary in a way that is independent of the underlying structure.\n",
      "Question: What is the purpose of the Safety Checker in the Diffusers library?\n",
      "\n",
      "True Answer: The Safety Checker checks and compares the class probability of a set of hard-coded harmful concepts in the embedding space against an image after it has been generated to mitigate the risk of generating harmful content.\n",
      "RAG Answer: The Safety Checker is a component that flags inappropriate content generated during inference. Its purpose is to help users interact with generative models responsibly and ethically by detecting and preventing the production of harmful and NSFW content.\n",
      "Question: What Python class allows you to retrieve Discussions and Pull Requests from a given repository on the Hugging Face Hub?\n",
      "\n",
      "True Answer: HfApi\n",
      "RAG Answer: The `HfApi` class allows you to retrieve Discussions and Pull Requests from a given repository on the Hugging Face Hub.\n",
      "Question: What is the name of the new library introduced by Hugging Face for hosting scikit-learn models?\n",
      "\n",
      "True Answer: Skops\n",
      "RAG Answer: Skops\n",
      "Question: What is the purpose of Textual Inversion?\n",
      "\n",
      "True Answer: Textual Inversion is a training method for personalizing models by learning new text embeddings from a few example images.\n",
      "RAG Answer: Textual Inversion is a training technique for personalizing image generation models with just a few example images of what you want it to learn.\n",
      "Question: What is the recommended multiple of batch size for fp16 data type on an A100 GPU?\n",
      "\n",
      "True Answer: 64\n",
      "RAG Answer: For fp16 data type on an A100 GPU, a multiple of 64 is recommended.\n",
      "Question: How do you run a Gradio Blocks app in reload mode using a Python IDE?\n",
      "\n",
      "True Answer: Run `gradio run.py` in the terminal.\n",
      "RAG Answer: To run a Gradio Blocks app in reload mode using a Python IDE, you can simply type `gradio` before the name of the file instead of `python`. For example, if your file is named `app.py`, you would type `gradio app.py` in your terminal.\n",
      "Question: How can you install the Hugging Face Unity API in your Unity project?\n",
      "\n",
      "True Answer: To install the Hugging Face Unity API in your Unity project, go to `Window` -> `Package Manager`, click `+` and select `Add Package from git URL`, then enter `https://github.com/huggingface/unity-api.git`.\n",
      "RAG Answer: To install the Hugging Face Unity API in your Unity project, follow these steps:\n",
      "\n",
      "1. Open your Unity project.\n",
      "2. Go to `Window` -> `Package Manager`.\n",
      "3. Click `+` and select `Add Package from git URL`.\n",
      "4. Enter `https://github.com/huggingface/unity-api.git`.\n",
      "5. Once installed, the Unity API wizard should pop up. If not, go to `Window` -> `Hugging Face API Wizard`.\n",
      "Question: What is the pretraining objective of the Wav2Vec2 context network?\n",
      "\n",
      "True Answer: The pretraining objective of the Wav2Vec2 context network is a contrastive task where the model has to predict the true quantized speech representation of the masked prediction from a set of false ones.\n",
      "RAG Answer: The pretraining objective of the Wav2Vec2 context network is masked prediction.\n",
      "Question: What is the default checkpoint used by the sentiment analysis pipeline in the Transformers library?\n",
      "\n",
      "True Answer: distilbert base uncased finetuned sst2 english\n",
      "RAG Answer: The default checkpoint used by the sentiment analysis pipeline in the Transformers library is \"distilbert-base-uncased-finetuned-sst-2-english\".\n",
      "Question: What is the purpose of the notebook \"How to use DeepSpeed to train models with billions of parameters on Habana Gaudi\"?\n",
      "\n",
      "True Answer: To show how to use DeepSpeed to pre-train/fine-tune the 1.6B-parameter GPT2-XL for causal language modeling on Habana Gaudi.\n",
      "RAG Answer: The purpose of the notebook \"How to use DeepSpeed to train models with billions of parameters on Habana Gaudi\" is to show how to use DeepSpeed to pre-train/fine-tune the 1.6B-parameter GPT2-XL for causal language modeling on Habana Gaudi.\n",
      "Question: What command line module does PyTorch provide to run a script on multiple GPUs?\n",
      "\n",
      "True Answer: torchrun\n",
      "RAG Answer: PyTorch provides the `torch.distributed.run` command line module to run a script on multiple GPUs.\n",
      "Question: What is the most popular vision transformer model on the Hugging Face Model Hub for image classification?\n",
      "\n",
      "True Answer: google/vit-base-patch16-224\n",
      "RAG Answer: Vision Transformer (ViT)\n",
      "Question: What is the command to upload an ESPnet model to a Hugging Face repository?\n",
      "\n",
      "True Answer: ./run.sh --stage 15 --skip_upload_hf false --hf_repo username/model_repo\n",
      "RAG Answer: The command to upload an ESPnet model to a Hugging Face repository is not explicitly mentioned in the provided context. However, based on the information provided, it can be inferred that the `push_to_hub()` method can be used to upload a dataset to the Hugging Face Hub. \n",
      "\n",
      "To upload an ESPnet model, you would need to use the `push_to_hub()` method, but you would need to specify the model ID and the repository ID. The exact command would depend on the specific model and repository you are trying to upload.\n",
      "Question: What file should be added to a model repository to install custom Python dependencies for Inference Endpoints?\n",
      "\n",
      "True Answer: requirements.txt\n",
      "RAG Answer: A `requirements.txt` file should be added to a model repository to install custom Python dependencies for Inference Endpoints.\n",
      "Question: How many images are needed to teach new concepts to Stable Diffusion using Textual Inversion?\n",
      "\n",
      "True Answer: 3-5 images\n",
      "RAG Answer: According to the context information, 3-5 images are needed to teach new concepts to Stable Diffusion using Textual Inversion.\n",
      "Question: What is the maximum size of a model checkpoint before it is automatically sharded in Transformers version 4.18.0?\n",
      "\n",
      "True Answer: 10GB\n",
      "RAG Answer: 10GB\n",
      "Question: What is the purpose of Weights and Biases (W&B) for data scientists and machine learning scientists?\n",
      "\n",
      "True Answer: To track their machine learning experiments at every stage, from training to production.\n",
      "RAG Answer: The purpose of Weights and Biases (W&B) is to provide a platform for data scientists and machine learning scientists to track and understand the impact of their choices on the development of their machine learning models, thereby enabling them to better address bias-related risks.\n",
      "Question: What is the name of the open-source library created by Hugging Face to simplify Transformer acceleration?\n",
      "\n",
      "True Answer: Optimum\n",
      "RAG Answer: Optimum.\n",
      "Question: What parameter is used to ensure that elements in a row have the same height in Gradio?\n",
      "\n",
      "True Answer: equal_height\n",
      "RAG Answer: The `equal_height` argument of the `style` method is used to ensure that elements in a Row have the same height in Gradio.\n",
      "Question: What is the command to install the latest version of Optimum with OpenVINO support?\n",
      "\n",
      "True Answer: pip install --upgrade-strategy eager optimum[\"openvino\"]\n",
      "RAG Answer: pip install --upgrade-strategy eager optimum[\"openvino\"]\n"
     ]
    }
   ],
   "source": [
    "# Now, lets run our RAG-SYSTEM and generate Answers \n",
    "# Then we will have generated answers along with ground truth passed to different evaluation methods\n",
    "# Lets Save the Generated Ans, along with Ground Truth, Question and Relavant Docs found in a Json file.\n",
    "\n",
    "def run_rag_tests(\n",
    "        eval_dataset: datasets.Dataset,\n",
    "        query_engine,\n",
    "        output_file:str\n",
    "):\n",
    "    outputs = []\n",
    "\n",
    "    for example in tqdm(eval_dataset):\n",
    "        rag_system_ans = get_rag_response(query=example['question'],query_engine=query_engine)\n",
    "\n",
    "        print(f'Question: {example[\"question\"]}')\n",
    "        print(f'True Answer: {example[\"answer\"]}')\n",
    "        print(f'RAG Answer: {rag_system_ans[\"answer\"]}')\n",
    "\n",
    "        result = {\n",
    "            \"question\": example[\"question\"],\n",
    "            \"true_answer\": example[\"answer\"],\n",
    "            \"source_doc\": example[\"source_doc\"],\n",
    "            \"generated_answer\": rag_system_ans[\"answer\"],\n",
    "        }\n",
    "\n",
    "        outputs.append(result)\n",
    "\n",
    "        #Save Jasa Jasa Output aai. :)\n",
    "\n",
    "        with open(output_file,\"w\") as f:\n",
    "            json.dump(outputs,f,indent=4, ensure_ascii=False)\n",
    "\n",
    "run_rag_tests(eval_dataset=eval_dataset,query_engine=vector_query_engine,output_file=\"evaluation_file_without_ret_docs.json\")"
   ]
  },
  {
   "cell_type": "markdown",
   "metadata": {},
   "source": [
    "DIFFERENT TYPES OF EVALUATIONS"
   ]
  },
  {
   "cell_type": "code",
   "execution_count": null,
   "metadata": {},
   "outputs": [],
   "source": [
    "# Now, lets Evaluate OUR RAG SYSTEM USING LLM-AS-JUDGE\n",
    "# WE Will Check FaithFullness Of Answer, with the ground truth answer.\n",
    "\n",
    "#Setting Up Judge Agent.\n",
    "\n",
    "import torch\n",
    "from transformers import AutoTokenizer, AutoModelForCausalLM\n",
    "\n",
    "# Load Prometheus model\n",
    "# Note Requires 10GB of VRAM To Run Properly\n",
    "model_id = \"prometheus-eval/prometheus-13b-v1.0\"\n",
    "model = AutoModelForCausalLM.from_pretrained(\n",
    "    model_id, \n",
    "    device_map=\"auto\",  # Auto-select GPU/CPU\n",
    "    load_in_4bit=True,  # Reduce memory usage\n",
    "    llm_int8_enable_fp32_cpu_offload=True\n",
    ")\n"
   ]
  },
  {
   "cell_type": "code",
   "execution_count": null,
   "metadata": {},
   "outputs": [],
   "source": [
    "# Setting Up Prompt for Evaluation Using Prometheus.\n",
    "\n",
    "EVALUATION_PROMPT = \"\"\"###Task Description:\n",
    "An instruction (might include an Input inside it), a response to evaluate, a reference answer that gets a score of 5, and a score rubric representing a evaluation criteria are given.\n",
    "1. Write a detailed feedback that assess the quality of the response strictly based on the given score rubric, not evaluating in general.\n",
    "2. After writing a feedback, write a score that is an integer between 1 and 5. You should refer to the score rubric.\n",
    "3. The output format should look as follows: \\\"Feedback: {{write a feedback for criteria}} [RESULT] {{an integer number between 1 and 5}}\\\"\n",
    "4. Please do not generate any other opening, closing, and explanations. Be sure to include [RESULT] in your output.\n",
    "\n",
    "###The instruction to evaluate:\n",
    "{instruction}\n",
    "\n",
    "###Response to evaluate:\n",
    "{response}\n",
    "\n",
    "###Reference Answer (Score 5):\n",
    "{reference_answer}\n",
    "\n",
    "###Score Rubrics:\n",
    "[Is the response correct, accurate, and factual based on the reference answer?]\n",
    "Score 1: The response is completely incorrect, inaccurate, and/or not factual.\n",
    "Score 2: The response is mostly incorrect, inaccurate, and/or not factual.\n",
    "Score 3: The response is somewhat correct, accurate, and/or factual.\n",
    "Score 4: The response is mostly correct, accurate, and factual.\n",
    "Score 5: The response is completely correct, accurate, and factual.\n",
    "\n",
    "###Feedback:\"\"\""
   ]
  },
  {
   "cell_type": "code",
   "execution_count": null,
   "metadata": {},
   "outputs": [],
   "source": [
    "# Load Tokenizer and Template for Prompt for Prometheus\n",
    "# Prometheus Uses Lllama-Tokenizer and conversation template of Llama-chat.\n",
    "\n",
    "from transformers import LlamaTokenizer, LlamaForCausalLM\n",
    "from fastchat.conversation import get_conv_template # To setup \n",
    "\n",
    "tokenizer = LlamaTokenizer.from_pretrained(\"meta-llama/Llama-2-7b-chat-hf\")\n",
    "\n",
    "def evaluate_with_prometheus(instruction, response_to_eval, reference_answer):\n",
    "  prompt = EVALUATION_PROMPT.format(\n",
    "    instruction=instruction,\n",
    "    response=response_to_eval,\n",
    "    reference_answer=reference_answer\n",
    "  )\n",
    "\n",
    "  #Set Conversation Template for llama-tokenizer.\n",
    "\n",
    "  conv = get_conv_template(\"llama-2\")\n",
    "  conv.set_system_message(\"You are a fair evaluator language model.\")\n",
    "  conv.append_message(conv.roles[0], prompt)\n",
    "  conv.append_message(conv.roles[1], None)\n",
    "  prompt = conv.get_prompt()\n",
    "\n",
    "  inputs = tokenizer(prompt,return_tensors=\"pt\",add_special_tokens=True)\n",
    "  input_ids = inputs[\"input_ids\"].to(\"cuda\")\n",
    "  attention_mask = inputs[\"attention_mask\"].to(\"cuda\")\n",
    "\n",
    "  outputs = model.generate(\n",
    "      input_ids=input_ids,\n",
    "      attention_mask=attention_mask,\n",
    "      max_new_tokens=500,\n",
    "      do_sample=False,\n",
    "      pad_token_id=tokenizer.eos_token_id\n",
    "  )\n",
    "\n",
    "  result = tokenizer.decode(outputs[0],skip_special_tokens=True)\n",
    "  return result\n"
   ]
  },
  {
   "cell_type": "code",
   "execution_count": null,
   "metadata": {},
   "outputs": [],
   "source": [
    "#Lets Set The Evaluation Function for Our True/Generated Ans Pairs.\n",
    "import json\n",
    "import os,tqdm\n",
    "\n",
    "def evaluate_answers(\n",
    "    eval_file_path: str,\n",
    "    output_file_path: str\n",
    ") -> None:\n",
    "\n",
    "  answers = []\n",
    "\n",
    "  evaluations = []\n",
    "\n",
    "  if os.path.isfile(eval_file_path):\n",
    "    with open(eval_file_path, \"r\") as f:\n",
    "      answers = json.load(f)\n",
    "\n",
    "  for ans in answers:\n",
    "\n",
    "    instruction = ans[\"question\"]\n",
    "    response_to_eval = ans[\"generated_answer\"]\n",
    "    reference_answer = ans[\"true_answer\"]\n",
    "\n",
    "    #Get Evaluations and Feedback from Evaluator.\n",
    "\n",
    "    evaluation = evaluate_with_prometheus(instruction, response_to_eval, reference_answer)\n",
    "\n",
    "    print(f'FeedBack: {evaluation.split(\"[RESULT]\")[2].split(\"###Feedback: [/INST]\")[1]}')\n",
    "    print(f'Score: {int(evaluation.split(\"[RESULT]\")[3].strip())}')\n",
    "    #Resulting Score and feedback.\n",
    "    score, feedback = (\n",
    "        int(evaluation.split(\"[RESULT]\")[3].strip()),\n",
    "        evaluation.split(\"[RESULT]\")[2].split(\"###Feedback: [/INST]\")[1]\n",
    "        )\n",
    "\n",
    "    evaluations.append({\n",
    "        \"question\": instruction,\n",
    "        \"generated_answer\": response_to_eval,\n",
    "        \"true_answer\": reference_answer,\n",
    "        \"score_by_evaluator\": score,\n",
    "        \"feedback_by_evaluator\": feedback\n",
    "    })\n",
    "\n",
    "    with open(output_file_path, \"w\") as f:\n",
    "      json.dump(evaluations, f, indent=5,ensure_ascii=False)\n",
    "\n"
   ]
  },
  {
   "cell_type": "code",
   "execution_count": null,
   "metadata": {},
   "outputs": [],
   "source": [
    "#Lets Run The EVALUATIONSS.\n",
    "evaluate_answers(eval_file_path='evaluation_file_without_ret_docs.json',output_file_path='complete_evals.json')"
   ]
  },
  {
   "cell_type": "code",
   "execution_count": null,
   "metadata": {},
   "outputs": [],
   "source": [
    "#Since BLEU Was Giving weird Errors.\n",
    "\n",
    "from nltk.translate.bleu_score import sentence_bleu\n",
    "from nltk.translate.bleu_score import SmoothingFunction\n",
    "\n",
    "def improved_bleu_score(reference, hypothesis):\n",
    "    # Tokenize texts\n",
    "    ref_tokens = reference.split()\n",
    "    hyp_tokens = hypothesis.split()\n",
    "    \n",
    "    # Use smoothing to handle low n-gram overlap\n",
    "    smoothie = SmoothingFunction().method1\n",
    "    \n",
    "    # Calculate BLEU with smoothing and lower n-gram orders\n",
    "    bleu_score = sentence_bleu(\n",
    "        [ref_tokens],  # Reference must be list of lists\n",
    "        hyp_tokens,    # Hypothesis as list\n",
    "        smoothing_function=smoothie,\n",
    "        weights=(0.25, 0.25, 0.25, 0.25)  # Equal weights for 1-4 grams\n",
    "    )\n",
    "    \n",
    "    return bleu_score"
   ]
  },
  {
   "cell_type": "code",
   "execution_count": null,
   "metadata": {},
   "outputs": [],
   "source": [
    "# Now Lets Add Evaluations Using ROUGE,BLEU,TF-IDF\n",
    "import pandas as pd\n",
    "import matplotlib.pyplot as plt\n",
    "import seaborn as sns\n",
    "from sklearn.feature_extraction.text import TfidfVectorizer\n",
    "from scipy.spatial.distance import cosine\n",
    "import nltk\n",
    "from rouge import Rouge\n",
    "\n",
    "#Compute Metrics.\n",
    "def compute_metrics(dataframe,tfidf_vectorizer,rouge):\n",
    "    \"\"\"\n",
    "    Compute advanced text similarity metrics\n",
    "    \n",
    "    Returns:\n",
    "        DataFrame with metrics\n",
    "    \"\"\"\n",
    "    metrics = []\n",
    "    \n",
    "    for _, row in dataframe.iterrows():\n",
    "        true_answer = row['true_answer']\n",
    "        generated_answer = row['generated_answer']\n",
    "        llm_score = row['score_by_evaluator']\n",
    "        \n",
    "        # 1. TF-IDF Cosine Similarity\n",
    "        tfidf_matrix = tfidf_vectorizer.fit_transform([true_answer, generated_answer])\n",
    "        tfidf_cosine_sim = 1 - cosine(tfidf_matrix.toarray()[0], tfidf_matrix.toarray()[1])\n",
    "        \n",
    "        # 2. BLEU Score\n",
    "        true_tokens = nltk.word_tokenize(true_answer.lower())\n",
    "        gen_tokens = nltk.word_tokenize(generated_answer.lower())\n",
    "        true_tokens = \" \".join(true_tokens)\n",
    "        gen_tokens = \" \".join(gen_tokens)\n",
    "        \n",
    "        bleu_score = improved_bleu_score(reference=true_tokens,hypothesis=gen_tokens)\n",
    "        \n",
    "        # 3. ROUGE Scores\n",
    "        rouge_scores = rouge.get_scores(generated_answer, true_answer)[0]\n",
    "        \n",
    "        metrics.append({\n",
    "            'llm_score': llm_score,\n",
    "            'tfidf_cosine_sim': tfidf_cosine_sim,\n",
    "            'bleu_score': bleu_score,\n",
    "            'rouge_1_f': rouge_scores['rouge-1']['f'],\n",
    "            'rouge_2_f': rouge_scores['rouge-2']['f'],\n",
    "            'rouge_l_f': rouge_scores['rouge-l']['f']\n",
    "        })\n",
    "    \n",
    "    return pd.DataFrame(metrics)"
   ]
  },
  {
   "cell_type": "code",
   "execution_count": 103,
   "metadata": {},
   "outputs": [],
   "source": [
    "# Visualizations Of Metrics.\n",
    "\n",
    "def visualize_metrics(metrics_df):\n",
    "    \"\"\"\n",
    "    Create comprehensive visualization of metrics\n",
    "    \"\"\"\n",
    "    \n",
    "    plt.figure(figsize=(20, 15))\n",
    "    \n",
    "    # 1. Correlation Heatmap\n",
    "    plt.subplot(2, 3, 1)\n",
    "    sns.heatmap(metrics_df.corr(), annot=True, cmap='coolwarm', center=0)\n",
    "    plt.title('Metric Correlation Heatmap')\n",
    "    \n",
    "    # 2. LLM Score Distribution\n",
    "    plt.subplot(2, 3, 2)\n",
    "    sns.histplot(metrics_df['llm_score'], kde=True)\n",
    "    plt.title('LLM Score Distribution')\n",
    "    plt.xlabel('LLM Score')\n",
    "    \n",
    "    # 3. Boxplot of Similarity Metrics\n",
    "    plt.subplot(2, 3, 3)\n",
    "    metrics_columns = ['tfidf_cosine_sim', 'bleu_score', 'rouge_1_f', 'rouge_2_f','rouge_l_f']\n",
    "    metrics_df[metrics_columns].boxplot()\n",
    "    plt.title('Similarity Metrics Boxplot')\n",
    "    plt.xticks(rotation=45)\n",
    "    \n",
    "    plt.tight_layout()\n",
    "    plt.show()"
   ]
  },
  {
   "cell_type": "code",
   "execution_count": 104,
   "metadata": {},
   "outputs": [
    {
     "name": "stderr",
     "output_type": "stream",
     "text": [
      "d:\\Study\\Anaconda\\envs\\disruptive_ai\\lib\\site-packages\\scipy\\spatial\\distance.py:647: RuntimeWarning: invalid value encountered in scalar divide\n",
      "  dist = 1.0 - uv / math.sqrt(uu * vv)\n"
     ]
    },
    {
     "data": {
      "image/png": "[encoded data removed]",
      "text/plain": [
       "<Figure size 2000x1500 with 4 Axes>"
      ]
     },
     "metadata": {},
     "output_type": "display_data"
    }
   ],
   "source": [
    "# Now Lets Run Metrics And Check Visualizations.\n",
    "# Load JSON File.\n",
    "results = []\n",
    "\n",
    "with open(file='complete_evals.json',mode=\"r\") as f:\n",
    "    results = json.load(f)\n",
    "\n",
    "df = pd.DataFrame(results)\n",
    "tfidf_vec = TfidfVectorizer()\n",
    "rouge = Rouge()\n",
    "\n",
    "metrics_df=compute_metrics(dataframe=df,tfidf_vectorizer=tfidf_vec,rouge=rouge)\n",
    "visualize_metrics(metrics_df=metrics_df)"
   ]
  }
 ],
 "metadata": {
  "kernelspec": {
   "display_name": "disruptive_ai",
   "language": "python",
   "name": "python3"
  },
  "language_info": {
   "codemirror_mode": {
    "name": "ipython",
    "version": 3
   },
   "file_extension": ".py",
   "mimetype": "text/x-python",
   "name": "python",
   "nbconvert_exporter": "python",
   "pygments_lexer": "ipython3",
   "version": "3.10.14"
  }
 },
 "nbformat": 4,
 "nbformat_minor": 2
}
